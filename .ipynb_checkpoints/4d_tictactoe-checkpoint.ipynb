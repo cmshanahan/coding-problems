{
 "cells": [
  {
   "cell_type": "code",
   "execution_count": 1,
   "metadata": {},
   "outputs": [],
   "source": [
    "import numpy as np"
   ]
  },
  {
   "cell_type": "code",
   "execution_count": 44,
   "metadata": {},
   "outputs": [],
   "source": [
    "board = np.zeros((4,4,4))"
   ]
  },
  {
   "cell_type": "code",
   "execution_count": 27,
   "metadata": {},
   "outputs": [
    {
     "data": {
      "text/plain": [
       "array([[[0., 0., 0., 0.],\n",
       "        [0., 0., 0., 0.],\n",
       "        [0., 0., 0., 0.],\n",
       "        [0., 0., 0., 0.]],\n",
       "\n",
       "       [[0., 0., 0., 0.],\n",
       "        [0., 0., 0., 0.],\n",
       "        [0., 0., 0., 0.],\n",
       "        [0., 0., 0., 0.]],\n",
       "\n",
       "       [[0., 0., 0., 0.],\n",
       "        [0., 0., 0., 0.],\n",
       "        [0., 0., 0., 0.],\n",
       "        [0., 0., 0., 0.]],\n",
       "\n",
       "       [[0., 0., 0., 0.],\n",
       "        [0., 0., 0., 0.],\n",
       "        [0., 0., 0., 0.],\n",
       "        [0., 0., 0., 0.]]])"
      ]
     },
     "execution_count": 27,
     "metadata": {},
     "output_type": "execute_result"
    }
   ],
   "source": [
    "board"
   ]
  },
  {
   "cell_type": "code",
   "execution_count": 45,
   "metadata": {},
   "outputs": [],
   "source": [
    "moves = [[0,0,0], [1,1,1]]"
   ]
  },
  {
   "cell_type": "code",
   "execution_count": 38,
   "metadata": {},
   "outputs": [
    {
     "data": {
      "text/plain": [
       "array([[0, 0, 0],\n",
       "       [1, 1, 1]])"
      ]
     },
     "execution_count": 38,
     "metadata": {},
     "output_type": "execute_result"
    }
   ],
   "source": [
    "np.array(moves)"
   ]
  },
  {
   "cell_type": "code",
   "execution_count": 37,
   "metadata": {},
   "outputs": [
    {
     "data": {
      "text/plain": [
       "array([[1., 1., 1., 1.],\n",
       "       [1., 1., 1., 1.],\n",
       "       [1., 1., 1., 1.],\n",
       "       [1., 1., 1., 1.]])"
      ]
     },
     "execution_count": 37,
     "metadata": {},
     "output_type": "execute_result"
    }
   ],
   "source": [
    "board[moves[0][0]]"
   ]
  },
  {
   "cell_type": "code",
   "execution_count": 33,
   "metadata": {},
   "outputs": [],
   "source": [
    "board[moves[0]] = 1"
   ]
  },
  {
   "cell_type": "code",
   "execution_count": 34,
   "metadata": {},
   "outputs": [],
   "source": [
    "board[moves[1]] = -1"
   ]
  },
  {
   "cell_type": "code",
   "execution_count": 35,
   "metadata": {},
   "outputs": [
    {
     "data": {
      "text/plain": [
       "array([[[ 1.,  1.,  1.,  1.],\n",
       "        [ 1.,  1.,  1.,  1.],\n",
       "        [ 1.,  1.,  1.,  1.],\n",
       "        [ 1.,  1.,  1.,  1.]],\n",
       "\n",
       "       [[-1., -1., -1., -1.],\n",
       "        [-1., -1., -1., -1.],\n",
       "        [-1., -1., -1., -1.],\n",
       "        [-1., -1., -1., -1.]],\n",
       "\n",
       "       [[ 0.,  0.,  0.,  0.],\n",
       "        [ 0.,  0.,  0.,  0.],\n",
       "        [ 0.,  0.,  0.,  0.],\n",
       "        [ 0.,  0.,  0.,  0.]],\n",
       "\n",
       "       [[ 0.,  0.,  0.,  0.],\n",
       "        [ 0.,  0.,  0.,  0.],\n",
       "        [ 0.,  0.,  0.,  0.],\n",
       "        [ 0.,  0.,  0.,  0.]]])"
      ]
     },
     "execution_count": 35,
     "metadata": {},
     "output_type": "execute_result"
    }
   ],
   "source": [
    "board"
   ]
  },
  {
   "cell_type": "code",
   "execution_count": 40,
   "metadata": {},
   "outputs": [
    {
     "data": {
      "text/plain": [
       "list"
      ]
     },
     "execution_count": 40,
     "metadata": {},
     "output_type": "execute_result"
    }
   ],
   "source": [
    "type(moves[0])"
   ]
  },
  {
   "cell_type": "code",
   "execution_count": 42,
   "metadata": {},
   "outputs": [
    {
     "data": {
      "text/plain": [
       "1.0"
      ]
     },
     "execution_count": 42,
     "metadata": {},
     "output_type": "execute_result"
    }
   ],
   "source": [
    "board[moves[0][0], moves[0][1], moves[0][2]]"
   ]
  },
  {
   "cell_type": "code",
   "execution_count": 59,
   "metadata": {},
   "outputs": [
    {
     "data": {
      "text/plain": [
       "True"
      ]
     },
     "execution_count": 59,
     "metadata": {},
     "output_type": "execute_result"
    }
   ],
   "source": [
    "0 in [1,1,0]"
   ]
  },
  {
   "cell_type": "code",
   "execution_count": 67,
   "metadata": {},
   "outputs": [
    {
     "data": {
      "text/plain": [
       "False"
      ]
     },
     "execution_count": 67,
     "metadata": {},
     "output_type": "execute_result"
    }
   ],
   "source": [
    "board[:,0,0].mean() == 1 or board[:,0,0].mean() == -1"
   ]
  },
  {
   "cell_type": "code",
   "execution_count": 99,
   "metadata": {},
   "outputs": [],
   "source": [
    "#reference / test move list\n",
    "moves = [[0,1,3], [1,1,1], [1,1,3], [2,1,2], [2,1,3], [2,2,2], [3,1,3]]\n",
    "#len(set(moves)) == len(moves)"
   ]
  },
  {
   "cell_type": "code",
   "execution_count": 102,
   "metadata": {},
   "outputs": [],
   "source": [
    "import numpy as np\n",
    "\n",
    "def play_OX_3D(moves):\n",
    "    #instantiate empty board\n",
    "    board = np.zeros((4,4,4))\n",
    "    #instantiate turn - O = 1, X = -1\n",
    "    turn = -1\n",
    "    num_turns = 0\n",
    "    players = {1: 'O', -1: 'X'}\n",
    "    winner = False\n",
    "\n",
    "    if len(moves) == 0:\n",
    "        print('Not many moves')\n",
    "        return 'No winner'\n",
    "    \n",
    "    #run through list of moves\n",
    "    while winner == False and num_turns < 4**3:\n",
    "        \n",
    "        #swap player turns\n",
    "        turn *= -1\n",
    "        \n",
    "        i = moves[num_turns]\n",
    "        #extract position of move\n",
    "        x, y, z = i\n",
    "        #set board position to relevant player mark\n",
    "        board[x,y,z] = turn\n",
    "        print('Player {} marks {}'.format(players[turn], i))\n",
    "        #add to turns count\n",
    "        num_turns += 1\n",
    "\n",
    "        #check for all row/column/vertical win conditions\n",
    "        if (board[:,y,z].mean() == turn or board[x,:,z].mean() == turn or board[x,y,:].mean() == turn):\n",
    "            winner = True\n",
    "\n",
    "        #check for diagonal win conditions\n",
    "        else:\n",
    "        #there are only 8 diagonals of length 4 per dimension -- 8*3 = 24 diagonals to check\n",
    "        #faster than checking every possible diagonal\n",
    "            diags = []\n",
    "            for j in range(4):\n",
    "                #holding x constant  (repeat 0-3)\n",
    "                diags.append(board[j,0,0] == board[j,1,1] == board[j,2,2] == board[j,3,3] == turn)\n",
    "                diags.append(board[j,0,3] == board[j,1,2] == board[j,2,1] == board[j,3,0] == turn)\n",
    "                #holding y constant (repeat 0-3)\n",
    "                diags.append(board[0,j,0] == board[1,j,1] == board[2,j,2] == board[3,j,3] == turn)\n",
    "                diags.append(board[0,j,3] == board[1,j,2] == board[2,j,1] == board[3,j,0] == turn)\n",
    "                #holding z constant (repeat 0-3)\n",
    "                diags.append(board[0,0,j] == board[1,1,j] == board[2,2,j] == board[3,3,j] == turn)\n",
    "                diags.append(board[0,3,j] == board[1,2,j] == board[2,1,j] == board[3,0,j] == turn)\n",
    "                \n",
    "            #corner - corner diags\n",
    "            diags.append(board[0,0,0] == board[1,1,1] == board[2,2,2] == board[3,3,3] == turn)\n",
    "            diags.append(board[0,0,3] == board[1,1,2] == board[2,2,1] == board[3,3,0] == turn)\n",
    "            diags.append(board[0,3,0] == board[1,2,1] == board[2,1,2] == board[3,0,3] == turn)\n",
    "            diags.append(board[0,3,3] == board[1,2,2] == board[2,1,1] == board[3,0,0] == turn)\n",
    "\n",
    "            #check for diagonal win conditions - currently placeholder\n",
    "            if True in diags:\n",
    "                winner = True\n",
    "            \n",
    "    if winner:\n",
    "        print('{} wins after {} moves'.format(players[turn], num_turns))\n",
    "        return '{} wins after {} moves'.format(players[turn], num_turns)\n",
    "    else:\n",
    "        print('No winner')\n",
    "        return 'No winner'\n",
    "\n",
    "        \n",
    "\n",
    "    print() \n",
    "    print(board)"
   ]
  },
  {
   "cell_type": "code",
   "execution_count": 103,
   "metadata": {},
   "outputs": [
    {
     "name": "stdout",
     "output_type": "stream",
     "text": [
      "Player O marks [0, 1, 3]\n",
      "Player X marks [1, 1, 1]\n",
      "Player O marks [1, 1, 3]\n",
      "Player X marks [2, 1, 2]\n",
      "Player O marks [2, 1, 3]\n",
      "Player X marks [2, 2, 2]\n",
      "Player O marks [3, 1, 3]\n",
      "O wins after 7 moves\n",
      "\n",
      "[[[ 0.  0.  0.  0.]\n",
      "  [ 0.  0.  0.  1.]\n",
      "  [ 0.  0.  0.  0.]\n",
      "  [ 0.  0.  0.  0.]]\n",
      "\n",
      " [[ 0.  0.  0.  0.]\n",
      "  [ 0. -1.  0.  1.]\n",
      "  [ 0.  0.  0.  0.]\n",
      "  [ 0.  0.  0.  0.]]\n",
      "\n",
      " [[ 0.  0.  0.  0.]\n",
      "  [ 0.  0. -1.  1.]\n",
      "  [ 0.  0. -1.  0.]\n",
      "  [ 0.  0.  0.  0.]]\n",
      "\n",
      " [[ 0.  0.  0.  0.]\n",
      "  [ 0.  0.  0.  1.]\n",
      "  [ 0.  0.  0.  0.]\n",
      "  [ 0.  0.  0.  0.]]]\n"
     ]
    }
   ],
   "source": [
    "moves = [[0,1,3], [1,1,1], [1,1,3], [2,1,2], [2,1,3], [2,2,2], [3,1,3]]\n",
    "play_OX_3D(moves)"
   ]
  },
  {
   "cell_type": "code",
   "execution_count": null,
   "metadata": {},
   "outputs": [],
   "source": [
    "board[0,0,0], board[1,1,1], board[2,2,2], board[3,3,3]\n",
    "board[0,0,3], board[1,1,2], board[2,2,1], board[3,3,0]\n",
    "board[0,3,0], board[1,2,1], board[2,1,2], board[3,0,3]\n",
    "board[0,3,3], board[1,2,2], board[2,1,1], board[3,0,0]"
   ]
  },
  {
   "cell_type": "code",
   "execution_count": 94,
   "metadata": {},
   "outputs": [
    {
     "data": {
      "text/plain": [
       "(2.0, 0.0, 0.0, 0.0)"
      ]
     },
     "execution_count": 94,
     "metadata": {},
     "output_type": "execute_result"
    }
   ],
   "source": [
    "#holding x constant  (repeat 0-3)\n",
    "board[0,0,0], board[0,1,1], board[0,2,2], board[0,3,3]\n",
    "board[0,0,3], board[0,1,2], board[0,2,1], board[0,3,0]\n",
    "#holding y constant (repeat 0-3)\n",
    "board[0,0,0], board[1,0,1], board[2,0,2], board[3,0,3]\n",
    "board[0,0,3], board[1,0,2], board[2,0,1], board[3,0,0]\n",
    "#holding z constant (repeat 0-3)\n",
    "board[0,0,0], board[1,1,0], board[2,2,0], board[3,3,0]\n",
    "board[0,3,0], board[1,2,0], board[2,1,0], board[3,0,0]"
   ]
  },
  {
   "cell_type": "code",
   "execution_count": 93,
   "metadata": {},
   "outputs": [
    {
     "data": {
      "text/plain": [
       "array([[[2., 0., 0., 0.],\n",
       "        [2., 0., 0., 0.],\n",
       "        [2., 0., 0., 0.],\n",
       "        [2., 0., 0., 0.]],\n",
       "\n",
       "       [[0., 0., 0., 0.],\n",
       "        [0., 0., 0., 0.],\n",
       "        [0., 0., 0., 0.],\n",
       "        [0., 0., 0., 0.]],\n",
       "\n",
       "       [[0., 0., 0., 0.],\n",
       "        [0., 0., 0., 0.],\n",
       "        [0., 0., 0., 0.],\n",
       "        [0., 0., 0., 0.]],\n",
       "\n",
       "       [[0., 0., 0., 0.],\n",
       "        [0., 0., 0., 0.],\n",
       "        [0., 0., 0., 0.],\n",
       "        [0., 0., 0., 0.]]])"
      ]
     },
     "execution_count": 93,
     "metadata": {},
     "output_type": "execute_result"
    }
   ],
   "source": [
    "board = np.zeros((4,4,4))\n",
    "board[0,:,0] = 2\n",
    "board"
   ]
  },
  {
   "cell_type": "code",
   "execution_count": 96,
   "metadata": {},
   "outputs": [
    {
     "data": {
      "text/plain": [
       "False"
      ]
     },
     "execution_count": 96,
     "metadata": {},
     "output_type": "execute_result"
    }
   ],
   "source": [
    "4 == 4 == 5"
   ]
  },
  {
   "cell_type": "code",
   "execution_count": null,
   "metadata": {},
   "outputs": [],
   "source": []
  }
 ],
 "metadata": {
  "kernelspec": {
   "display_name": "Python 3",
   "language": "python",
   "name": "python3"
  },
  "language_info": {
   "codemirror_mode": {
    "name": "ipython",
    "version": 3
   },
   "file_extension": ".py",
   "mimetype": "text/x-python",
   "name": "python",
   "nbconvert_exporter": "python",
   "pygments_lexer": "ipython3",
   "version": "3.6.5"
  }
 },
 "nbformat": 4,
 "nbformat_minor": 2
}
