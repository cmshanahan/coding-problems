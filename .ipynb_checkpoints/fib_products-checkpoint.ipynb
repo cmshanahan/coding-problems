{
 "cells": [
  {
   "cell_type": "code",
   "execution_count": null,
   "metadata": {},
   "outputs": [],
   "source": [
    "def fib_products(prod):\n",
    "    '''\n",
    "    Given a number, 'prod', find two fibonacci numbers such that f(n) * f(n+1) = prod.\n",
    "    \n",
    "    inputs: \n",
    "    prod - int\n",
    "    \n",
    "    outputs:\n",
    "    lst - list of form [f1, f2, found] where:\n",
    "        f1 - int, lower of the two fibonacci factors\n",
    "        f2 - int, higher of the two fibonacci factors\n",
    "        found - bool, whether or not the input is a fibonacci product\n",
    "    If no factors can be found then f1 and f2 will be the smallest two fibonacci numbers such that f1*f2 > prod\n",
    "    \n",
    "    fibonacci sample:\n",
    "    0, 1, 1, 2, 3, 5, 8, 13, 21, 34, 55, 89, 144, 233, ...\n",
    "    '''\n",
    "    \n",
    "    return None"
   ]
  }
 ],
 "metadata": {
  "kernelspec": {
   "display_name": "Python 3",
   "language": "python",
   "name": "python3"
  },
  "language_info": {
   "codemirror_mode": {
    "name": "ipython",
    "version": 3
   },
   "file_extension": ".py",
   "mimetype": "text/x-python",
   "name": "python",
   "nbconvert_exporter": "python",
   "pygments_lexer": "ipython3",
   "version": "3.6.5"
  }
 },
 "nbformat": 4,
 "nbformat_minor": 2
}
