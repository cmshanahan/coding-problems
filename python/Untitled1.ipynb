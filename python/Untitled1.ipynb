{
 "cells": [
  {
   "cell_type": "code",
   "execution_count": 1,
   "metadata": {},
   "outputs": [],
   "source": [
    "import numpy as np"
   ]
  },
  {
   "cell_type": "code",
   "execution_count": 22,
   "metadata": {},
   "outputs": [],
   "source": [
    "arr = np.array([[1,1,1,0,0,0], \n",
    "            [0,1,0,0,0,0],\n",
    "            [1,1,1,0,0,0],\n",
    "            [0,0,0,0,0,0],\n",
    "            [0,0,0,0,0,0],\n",
    "            [0,0,0,0,0,0]])"
   ]
  },
  {
   "cell_type": "code",
   "execution_count": 4,
   "metadata": {},
   "outputs": [
    {
     "data": {
      "text/plain": [
       "(6, 6)"
      ]
     },
     "execution_count": 4,
     "metadata": {},
     "output_type": "execute_result"
    }
   ],
   "source": [
    "a.shape"
   ]
  },
  {
   "cell_type": "code",
   "execution_count": 8,
   "metadata": {},
   "outputs": [
    {
     "data": {
      "text/plain": [
       "[0, 1, 2, 3]"
      ]
     },
     "execution_count": 8,
     "metadata": {},
     "output_type": "execute_result"
    }
   ],
   "source": [
    "list(range(a.shape[0] - 2))"
   ]
  },
  {
   "cell_type": "code",
   "execution_count": 28,
   "metadata": {},
   "outputs": [
    {
     "name": "stdout",
     "output_type": "stream",
     "text": [
      "[7, 4, 2, 0, 2, 2, 0, 0, 3, 2, 1, 0, 0, 0, 0, 0]\n",
      "7\n"
     ]
    }
   ],
   "source": [
    "hours = []\n",
    "for i in range(arr.shape[0] - 2):\n",
    "    for j in range(arr.shape[1] - 2):\n",
    "        a, b, c = arr[i,j:j+3], arr[i+1,j+1],arr[i+2,j:j+3]\n",
    "        hours.append(a.sum() + b + c.sum())\n",
    "print(hours)\n",
    "print(np.max(hours))"
   ]
  },
  {
   "cell_type": "code",
   "execution_count": null,
   "metadata": {},
   "outputs": [],
   "source": []
  }
 ],
 "metadata": {
  "kernelspec": {
   "display_name": "Python 3",
   "language": "python",
   "name": "python3"
  },
  "language_info": {
   "codemirror_mode": {
    "name": "ipython",
    "version": 3
   },
   "file_extension": ".py",
   "mimetype": "text/x-python",
   "name": "python",
   "nbconvert_exporter": "python",
   "pygments_lexer": "ipython3",
   "version": "3.6.5"
  }
 },
 "nbformat": 4,
 "nbformat_minor": 2
}
